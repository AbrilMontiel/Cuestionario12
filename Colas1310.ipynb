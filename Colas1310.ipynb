{
  "nbformat": 4,
  "nbformat_minor": 0,
  "metadata": {
    "colab": {
      "name": "Colas1310.ipynb",
      "provenance": [],
      "authorship_tag": "ABX9TyOfhO9aSCbiKCLp5+KYtN/C",
      "include_colab_link": true
    },
    "kernelspec": {
      "name": "python3",
      "display_name": "Python 3"
    },
    "language_info": {
      "name": "python"
    }
  },
  "cells": [
    {
      "cell_type": "markdown",
      "metadata": {
        "id": "view-in-github",
        "colab_type": "text"
      },
      "source": [
        "<a href=\"https://colab.research.google.com/github/AbrilMontiel/Cuestionario12/blob/master/Colas1310.ipynb\" target=\"_parent\"><img src=\"https://colab.research.google.com/assets/colab-badge.svg\" alt=\"Open In Colab\"/></a>"
      ]
    },
    {
      "cell_type": "code",
      "metadata": {
        "id": "gfAJUBIAKAXc"
      },
      "source": [
        "class Queue:\n",
        "  def __init__( self ):\n",
        "    self.data = [ ]\n",
        "\n",
        "  def is_empty( self ):\n",
        "    return len( self.data ) == 0\n",
        "\n",
        "  def length( self ):\n",
        "    return len( self.data )\n",
        "\n",
        "  def enqueue( self, value ):\n",
        "    self.data.append( value )\n",
        "\n",
        "  def dequeue( self ):\n",
        "    return self.data.pop( 0 )\n",
        "\n",
        "  def to_string( self ):\n",
        "    for elem in self.data:\n",
        "      print(f\" | { elem } | <-- \", end=\"\" )\n",
        "    print(\"\")\n"
      ],
      "execution_count": 1,
      "outputs": []
    },
    {
      "cell_type": "code",
      "metadata": {
        "colab": {
          "base_uri": "https://localhost:8080/"
        },
        "id": "m_llaik0Nkd3",
        "outputId": "5f9d688c-c762-47fa-d6ee-2cc824f6779a"
      },
      "source": [
        "cola = Queue()\n",
        "print(\"Esta vacio?\", cola.is_empty() )\n",
        "print(\"Número de elemntos: \", cola.length() )\n",
        "\n",
        "print(\"---------------------------\")\n",
        "\n",
        "cola.enqueue( 10 )\n",
        "cola.enqueue( 20 )\n",
        "cola.enqueue( 30 )\n",
        "print(\"Esta vacio?\", cola.is_empty() )\n",
        "print(\"Número de elemntos: \", cola.length() )\n",
        "\n",
        "print(\"---------------------------\")\n",
        "\n",
        "cola.enqueue( 40 )\n",
        "cola.enqueue( 50 )\n",
        "cola.enqueue( 60 )\n",
        "cola.to_string()\n",
        "\n",
        "print(\"---------------------------\")\n",
        "\n",
        "siguiente = cola.dequeue()\n",
        "print(\"Atendiendo a: \", siguiente )\n",
        "cola.to_string()"
      ],
      "execution_count": 7,
      "outputs": [
        {
          "output_type": "stream",
          "name": "stdout",
          "text": [
            "Esta vacio? True\n",
            "Número de elemntos:  0\n",
            "---------------------------\n",
            "Esta vacio? False\n",
            "Número de elemntos:  3\n",
            "---------------------------\n",
            " | 10 | <--  | 20 | <--  | 30 | <--  | 40 | <--  | 50 | <--  | 60 | <-- \n",
            "---------------------------\n",
            "Atendiendo a:  10\n",
            " | 20 | <--  | 30 | <--  | 40 | <--  | 50 | <--  | 60 | <-- \n"
          ]
        }
      ]
    },
    {
      "cell_type": "markdown",
      "metadata": {
        "id": "2cybY5azQhlJ"
      },
      "source": [
        "#Variantes del ADT cola\n",
        "1. Circulares.\n",
        "2. Priorida.\n",
        "  - Acotada.\n",
        "  - No acotada.\n",
        "\n",
        "  \n"
      ]
    }
  ]
}